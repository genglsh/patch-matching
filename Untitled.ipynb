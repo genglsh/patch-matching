{
 "cells": [
  {
   "cell_type": "code",
   "execution_count": 6,
   "metadata": {},
   "outputs": [],
   "source": [
    "video_path = os.path.join('avi', 'face_cap521', 'F530-1.avi')\n",
    "cap = cv2.VideoCapture(video_path)\n",
    "cnt = 0\n",
    "while(cap.isOpened() and cnt<= 10):\n",
    "    ret, frame = cap.read()\n",
    "    cv2.imwrite(os.path.join('photo', str(cnt) + 'r.png'),frame)\n",
    "    cnt += 1\n",
    "cap.release()\n",
    "cv2.destroyAllWindows()"
   ]
  },
  {
   "cell_type": "code",
   "execution_count": 7,
   "metadata": {},
   "outputs": [],
   "source": [
    "video_path = os.path.join('avi', 'face_cap521', '550.avi')\n",
    "cap = cv2.VideoCapture(video_path)\n",
    "cnt = 0\n",
    "while(cap.isOpened() and cnt<= 10):\n",
    "    ret, frame = cap.read()\n",
    "    cv2.imwrite(os.path.join('photo', str(cnt) + 'l.png'),frame)\n",
    "    cnt += 1\n",
    "cap.release()\n",
    "cv2.destroyAllWindows()"
   ]
  },
  {
   "cell_type": "code",
   "execution_count": 3,
   "metadata": {},
   "outputs": [
    {
     "name": "stdout",
     "output_type": "stream",
     "text": [
      "{12: 203178, 14: 105235, 15: 73639, 23: 13292, 21: 17727, 19: 24982, 17: 14063, 16: 47122, 8: 114, 9: 315, 10: 3260, 11: 96719, 18: 37189, 22: 13881, 28: 4709, 25: 10806, 24: 10668, 20: 1264, 26: 9154, 29: 7765, 31: 7458, 33: 5983, 27: 2360, 30: 8343, 36: 5601, 40: 4089, 45: 3896, 50: 3431, 53: 3309, 56: 1399, 47: 3681, 46: 3624, 49: 1284, 39: 4163, 43: 3785, 59: 3290, 65: 2435, 63: 1608, 61: 3755, 58: 3190, 54: 3354, 42: 1708, 41: 2496, 38: 4388, 37: 5497, 51: 3750, 35: 2279, 32: 6150, 44: 4085, 34: 3075, 57: 3151, 48: 2234, 52: 3536, 60: 3246, 55: 2381, 62: 1977, 7: 28, 64: 2711, 66: 2530, 67: 2263, 68: 2164, 70: 871, 71: 1889, 75: 1677, 72: 1907, 85: 1219, 80: 1410, 73: 1774, 90: 1145, 86: 1246, 78: 1515, 69: 1134, 74: 1708, 81: 1344, 82: 1305, 89: 1187, 79: 1487, 76: 853, 77: 703, 87: 1195, 88: 1219, 94: 1129, 83: 597, 96: 1097, 91: 470, 97: 1052, 93: 1128, 95: 1120, 100: 1037, 92: 712, 101: 1085, 84: 691, 98: 366, 109: 1043, 108: 1036, 104: 1071, 103: 1049, 99: 795, 106: 798, 107: 1043, 102: 1032, 110: 983, 111: 1011, 105: 322, 115: 963, 118: 900, 126: 158, 129: 852, 117: 958, 123: 954, 131: 823, 128: 881, 114: 989, 113: 784, 122: 970, 112: 230, 121: 916, 120: 772, 125: 903, 132: 857, 124: 885, 146: 683, 150: 688, 141: 661, 127: 731, 143: 758, 136: 781, 138: 736, 134: 730, 137: 825, 116: 940, 119: 189, 142: 754, 139: 805, 145: 750, 155: 541, 163: 574, 130: 875, 144: 718, 166: 552, 170: 608, 157: 596, 153: 649, 167: 629, 179: 557, 171: 599, 149: 709, 156: 636, 164: 606, 168: 72, 165: 603, 135: 785, 173: 582, 175: 564, 160: 588, 178: 561, 152: 684, 197: 106, 202: 484, 207: 508, 204: 99, 190: 85, 151: 658, 159: 643, 201: 479, 220: 475, 241: 755, 244: 1033, 245: 1135, 236: 557, 215: 445, 185: 534, 154: 91, 161: 82, 158: 588, 211: 117, 238: 650, 255: 3482, 250: 2927, 252: 3052, 234: 561, 174: 564, 181: 568, 4: 3, 213: 492, 246: 459, 251: 50829, 248: 1672, 249: 1928, 231: 529, 183: 87, 223: 474, 235: 575, 222: 448, 188: 531, 195: 552, 239: 182, 237: 598, 212: 382, 216: 472, 253: 1051, 180: 535, 176: 64, 194: 500, 187: 539, 227: 483, 242: 801, 254: 1298, 210: 454, 217: 433, 229: 499, 226: 359, 232: 143, 247: 1003, 228: 458, 191: 431, 214: 463, 208: 459, 230: 510, 182: 571, 206: 473, 224: 467, 133: 142, 147: 83, 189: 565, 200: 480, 218: 108, 203: 469, 172: 572, 209: 474, 162: 539, 186: 501, 196: 537, 169: 501, 148: 588, 192: 567, 140: 92, 184: 443, 198: 393, 205: 364, 219: 357, 177: 485, 193: 509, 199: 521, 221: 518, 240: 502, 233: 413, 243: 843, 225: 120, 13: 81, 5: 8, 3: 1, 6: 1}\n"
     ]
    },
    {
     "data": {
      "text/plain": [
       "<Figure size 432x288 with 0 Axes>"
      ]
     },
     "metadata": {},
     "output_type": "display_data"
    }
   ],
   "source": [
    "from PIL import Image\n",
    "import os\n",
    "import numpy as np\n",
    "import matplotlib.pyplot as plt\n",
    "img=np.array(Image.open(os.path.join('photo', '0r.png')).convert('L'))\n",
    "\n",
    "plt.figure(\"lena\")\n",
    "arr=img.flatten()\n",
    "cnt_p = dict()\n",
    "for v in arr:\n",
    "    if v in cnt_p:\n",
    "        cnt_p[v] += 1\n",
    "    else:\n",
    "        cnt_p[v] = 1\n",
    "print(cnt_p)\n",
    "# n, bins, patches = plt.hist(arr, bins=256, normed=1, facecolor='green', alpha=0.75)  \n",
    "# plt.show()"
   ]
  },
  {
   "cell_type": "code",
   "execution_count": 1,
   "metadata": {},
   "outputs": [],
   "source": [
    "import cv2\n",
    "import os\n",
    "import numpy as np\n",
    "import time\n",
    "import matplotlib\n",
    "import matplotlib.pyplot as plt\n",
    "import matplotlib.tri as tri\n",
    "% matplotlib inline\n",
    "\n",
    "photo = cv2.imread(os.path.join('photo', '0r.png'), 0)\n",
    "# photo_gray = cv2.cvtColor(photo, cv2.COLOR_BGR2GRAY)\n",
    "\n",
    "photo =  photo/ 255\n",
    "print(photo)\n",
    "# hist = cv2.calcHist([photo], [0], None, [256],[0.0, \n",
    "#                                             255.0])\n",
    "# # cv2.imshow('s', hist)\n",
    "# plt.figure('hist')\n",
    "# plt.imshow(hist)\n",
    "# plt.show()\n",
    "\n",
    "def generate_patch():\n",
    "    width = 19\n",
    "    height = 19\n",
    "    train_x = list()\n",
    "    boundary_w = 0\n",
    "    boundary_h = 0\n",
    "    boundary_h, boundary_w = photo.shape\n",
    "    for i in range(boundary_w):\n",
    "        for ii in range(boundary_h):\n",
    "            if i + width < boundary_w and ii + height < boundary_h:\n",
    "                train_x.append(photo[ ii:ii+height, i:i+width].reshape(width*height))\n",
    "    print(len(train_x))\n",
    "    train_ = np.array(train_x).reshape(len(train_x), width * height).T\n",
    "    return train_\n",
    "\n",
    "        \n",
    "\n",
    "test_S = generate_patch()"
   ]
  },
  {
   "cell_type": "code",
   "execution_count": 9,
   "metadata": {},
   "outputs": [
    {
     "name": "stdout",
     "output_type": "stream",
     "text": [
      "[ 0.04705882  0.04705882  0.04705882 ...,  0.04705882  0.04705882\n",
      "  0.04705882]\n"
     ]
    }
   ],
   "source": [
    "print(test_S[5])"
   ]
  },
  {
   "cell_type": "code",
   "execution_count": 5,
   "metadata": {},
   "outputs": [
    {
     "data": {
      "text/plain": [
       "3.3333333333333335"
      ]
     },
     "execution_count": 5,
     "metadata": {},
     "output_type": "execute_result"
    }
   ],
   "source": [
    "10 / 3"
   ]
  },
  {
   "cell_type": "code",
   "execution_count": null,
   "metadata": {},
   "outputs": [],
   "source": []
  }
 ],
 "metadata": {
  "kernelspec": {
   "display_name": "Python 2",
   "language": "python",
   "name": "python2"
  },
  "language_info": {
   "codemirror_mode": {
    "name": "ipython",
    "version": 2
   },
   "file_extension": ".py",
   "mimetype": "text/x-python",
   "name": "python",
   "nbconvert_exporter": "python",
   "pygments_lexer": "ipython2",
   "version": "2.7.12"
  }
 },
 "nbformat": 4,
 "nbformat_minor": 2
}
