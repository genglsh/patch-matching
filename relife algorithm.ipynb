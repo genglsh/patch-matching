{
 "cells": [
  {
   "cell_type": "code",
   "execution_count": 5,
   "metadata": {},
   "outputs": [],
   "source": [
    "import numpy as np\n",
    "import os\n",
    "import math\n",
    "import cv2\n",
    "import random"
   ]
  },
  {
   "cell_type": "markdown",
   "metadata": {},
   "source": [
    "采取随机batch梯度下降法"
   ]
  },
  {
   "cell_type": "code",
   "execution_count": 11,
   "metadata": {},
   "outputs": [],
   "source": [
    "# assert x.shape  = (w,1)\n",
    "# assert m.shape = (b,w)"
   ]
  },
  {
   "cell_type": "code",
   "execution_count": 51,
   "metadata": {},
   "outputs": [],
   "source": [
    "b = 10 \n",
    "w = 21 * 21\n",
    "alph = 0.1\n",
    "batch = 1\n",
    "times = 10000\n",
    "threshold = 10**-6"
   ]
  },
  {
   "cell_type": "code",
   "execution_count": 45,
   "metadata": {},
   "outputs": [],
   "source": [
    "x = np.random.rand(w,batch)\n",
    "x_similar = np.random.rand(w,batch) \n",
    "x_not = np.random.rand(w,batch)"
   ]
  },
  {
   "cell_type": "code",
   "execution_count": 8,
   "metadata": {},
   "outputs": [],
   "source": [
    "def min_cost(x_, x_similar_, x_not_):\n",
    "    no_sense, num_sample = x_.shape() # 主要记录样本数目\n",
    "    m  = np.random.rand(b,w)\n",
    "    cost = 0\n",
    "    for t in range(times):\n",
    "        batch_start = random.randint(0, num_sample-50)\n",
    "        x = x_[:, batch_start + batch]\n",
    "        x_similar = x_similar_[:, batch + batch_start]\n",
    "        x_not = x_not_[:batch_start + batch]\n",
    "        cost_last = cost\n",
    "        change_w = 2 *np.dot(m, np.dot((x - x_similar), (x - x_similar).T) / batch)-  2 *np.dot(m, np.dot((x - x_not), (x - x_not).T)/ batch)\n",
    "        # print(change_w.shape)\n",
    "        m = m - alph * change_w\n",
    "        cost = np.linalg.norm(np.dot(m, (x - x_similar)),2) - np.linalg.norm(np.dot(m, (x- x_not)), 2)\n",
    "        print('当前的损失为%f ' % (cost))\n",
    "        print('前后两次的损失为%f' % (abs(cost - cost_last)))\n",
    "        if abs(cost - cost_last) <= threshold:\n",
    "            break\n",
    "    return m"
   ]
  },
  {
   "cell_type": "code",
   "execution_count": 54,
   "metadata": {},
   "outputs": [
    {
     "ename": "TypeError",
     "evalue": "rand() got an unexpected keyword argument 'type'",
     "output_type": "error",
     "traceback": [
      "\u001b[0;31m---------------------------------------------------------------------------\u001b[0m",
      "\u001b[0;31mTypeError\u001b[0m                                 Traceback (most recent call last)",
      "\u001b[0;32m<ipython-input-54-1257eb9ef10e>\u001b[0m in \u001b[0;36m<module>\u001b[0;34m()\u001b[0m\n\u001b[0;32m----> 1\u001b[0;31m \u001b[0;32mprint\u001b[0m\u001b[0;34m(\u001b[0m\u001b[0mmin_cost\u001b[0m\u001b[0;34m(\u001b[0m\u001b[0mx\u001b[0m\u001b[0;34m,\u001b[0m \u001b[0mx_similar\u001b[0m\u001b[0;34m,\u001b[0m \u001b[0mx_not\u001b[0m\u001b[0;34m)\u001b[0m\u001b[0;34m)\u001b[0m\u001b[0;34m\u001b[0m\u001b[0m\n\u001b[0m",
      "\u001b[0;32m<ipython-input-53-6022e65b495e>\u001b[0m in \u001b[0;36mmin_cost\u001b[0;34m(x, x_similar, x_not)\u001b[0m\n\u001b[1;32m      1\u001b[0m \u001b[0;32mdef\u001b[0m \u001b[0mmin_cost\u001b[0m\u001b[0;34m(\u001b[0m\u001b[0mx\u001b[0m\u001b[0;34m,\u001b[0m \u001b[0mx_similar\u001b[0m\u001b[0;34m,\u001b[0m \u001b[0mx_not\u001b[0m\u001b[0;34m)\u001b[0m\u001b[0;34m:\u001b[0m\u001b[0;34m\u001b[0m\u001b[0m\n\u001b[0;32m----> 2\u001b[0;31m     \u001b[0mm\u001b[0m  \u001b[0;34m=\u001b[0m \u001b[0mnp\u001b[0m\u001b[0;34m.\u001b[0m\u001b[0mrandom\u001b[0m\u001b[0;34m.\u001b[0m\u001b[0mrand\u001b[0m\u001b[0;34m(\u001b[0m\u001b[0;34m(\u001b[0m\u001b[0mb\u001b[0m\u001b[0;34m,\u001b[0m\u001b[0mw\u001b[0m\u001b[0;34m)\u001b[0m\u001b[0;34m,\u001b[0m \u001b[0mtype\u001b[0m \u001b[0;34m=\u001b[0m \u001b[0mnp\u001b[0m\u001b[0;34m.\u001b[0m\u001b[0mfloat64\u001b[0m\u001b[0;34m)\u001b[0m\u001b[0;34m\u001b[0m\u001b[0m\n\u001b[0m\u001b[1;32m      3\u001b[0m     \u001b[0mcost\u001b[0m \u001b[0;34m=\u001b[0m \u001b[0;36m0\u001b[0m\u001b[0;34m\u001b[0m\u001b[0m\n\u001b[1;32m      4\u001b[0m     \u001b[0;32mfor\u001b[0m \u001b[0mt\u001b[0m \u001b[0;32min\u001b[0m \u001b[0mrange\u001b[0m\u001b[0;34m(\u001b[0m\u001b[0mtimes\u001b[0m\u001b[0;34m)\u001b[0m\u001b[0;34m:\u001b[0m\u001b[0;34m\u001b[0m\u001b[0m\n\u001b[1;32m      5\u001b[0m         \u001b[0mcost_last\u001b[0m \u001b[0;34m=\u001b[0m \u001b[0mcost\u001b[0m\u001b[0;34m\u001b[0m\u001b[0m\n",
      "\u001b[0;31mTypeError\u001b[0m: rand() got an unexpected keyword argument 'type'"
     ]
    }
   ],
   "source": [
    "print(min_cost(x, x_similar, x_not))"
   ]
  },
  {
   "cell_type": "code",
   "execution_count": 2,
   "metadata": {},
   "outputs": [],
   "source": [
    "photo_path_left = os.path.join('photo/', '')\n",
    "photo_path_right = os.path.join('photo/', '')\n",
    "photo_l = cv2.imread(photo_path_left, 0)\n",
    "photo_r = cv2.imread(photo_path_right, 0)"
   ]
  },
  {
   "cell_type": "code",
   "execution_count": 3,
   "metadata": {},
   "outputs": [],
   "source": [
    "range_height = 5 # 上下阈值的范围\n",
    "similar = dict()# 构建每个patch块的相似词典\n",
    "not_similar = dict() # 构建每个patch快的非相似词典\n",
    "x_patch = dict() # 根据中心点构建patch块"
   ]
  },
  {
   "cell_type": "code",
   "execution_count": 11,
   "metadata": {},
   "outputs": [
    {
     "ename": "NameError",
     "evalue": "name 'x_' is not defined",
     "output_type": "error",
     "traceback": [
      "\u001b[0;31m---------------------------------------------------------------------------\u001b[0m",
      "\u001b[0;31mNameError\u001b[0m                                 Traceback (most recent call last)",
      "\u001b[0;32m<ipython-input-11-fccece7c786b>\u001b[0m in \u001b[0;36m<module>\u001b[0;34m()\u001b[0m\n\u001b[0;32m----> 1\u001b[0;31m \u001b[0mm_best\u001b[0m \u001b[0;34m=\u001b[0m \u001b[0mmin_cost\u001b[0m\u001b[0;34m(\u001b[0m\u001b[0mx_\u001b[0m\u001b[0;34m,\u001b[0m \u001b[0mx_similar_\u001b[0m\u001b[0;34m,\u001b[0m \u001b[0mx_not_\u001b[0m\u001b[0;34m)\u001b[0m\u001b[0;31m# 获取最好的m\u001b[0m\u001b[0;34m\u001b[0m\u001b[0m\n\u001b[0m",
      "\u001b[0;31mNameError\u001b[0m: name 'x_' is not defined"
     ]
    }
   ],
   "source": [
    "m_best = min_cost(x_, x_similar_, x_not_)# 获取最好的m\n"
   ]
  },
  {
   "cell_type": "markdown",
   "metadata": {},
   "source": [
    "    将上述三部分压缩成一个ｗ行ｎ列的数组（保持对应），然后我们可以利用随机数的方法随意选取某一列开始的ｂａｔｃｈ个样本进行训练。\n"
   ]
  },
  {
   "cell_type": "code",
   "execution_count": 15,
   "metadata": {},
   "outputs": [
    {
     "ename": "NameError",
     "evalue": "name 'p_t_gray_l' is not defined",
     "output_type": "error",
     "traceback": [
      "\u001b[0;31m---------------------------------------------------------------------------\u001b[0m",
      "\u001b[0;31mNameError\u001b[0m                                 Traceback (most recent call last)",
      "\u001b[0;32m<ipython-input-15-42b980229a52>\u001b[0m in \u001b[0;36m<module>\u001b[0;34m()\u001b[0m\n\u001b[1;32m      1\u001b[0m \u001b[0mphoto_test_left\u001b[0m \u001b[0;34m=\u001b[0m  \u001b[0mos\u001b[0m\u001b[0;34m.\u001b[0m\u001b[0mpath\u001b[0m\u001b[0;34m.\u001b[0m\u001b[0mjoin\u001b[0m\u001b[0;34m(\u001b[0m\u001b[0;34m'photo'\u001b[0m\u001b[0;34m,\u001b[0m \u001b[0;34m''\u001b[0m\u001b[0;34m)\u001b[0m\u001b[0;34m\u001b[0m\u001b[0m\n\u001b[1;32m      2\u001b[0m \u001b[0mphoto_test_right\u001b[0m \u001b[0;34m=\u001b[0m \u001b[0mos\u001b[0m\u001b[0;34m.\u001b[0m\u001b[0mpath\u001b[0m\u001b[0;34m.\u001b[0m\u001b[0mjoin\u001b[0m\u001b[0;34m(\u001b[0m\u001b[0;34m'photo'\u001b[0m\u001b[0;34m,\u001b[0m \u001b[0;34m''\u001b[0m\u001b[0;34m)\u001b[0m\u001b[0;34m\u001b[0m\u001b[0m\n\u001b[0;32m----> 3\u001b[0;31m \u001b[0mp_t_gray_l\u001b[0m \u001b[0;34m=\u001b[0m \u001b[0mcv2\u001b[0m\u001b[0;34m.\u001b[0m\u001b[0mimread\u001b[0m\u001b[0;34m(\u001b[0m\u001b[0mp_t_gray_l\u001b[0m\u001b[0;34m,\u001b[0m \u001b[0;36m0\u001b[0m\u001b[0;34m)\u001b[0m\u001b[0;34m\u001b[0m\u001b[0m\n\u001b[0m\u001b[1;32m      4\u001b[0m \u001b[0mp_t_gray_r\u001b[0m \u001b[0;34m=\u001b[0m \u001b[0mcv2\u001b[0m\u001b[0;34m.\u001b[0m\u001b[0mimread\u001b[0m\u001b[0;34m(\u001b[0m\u001b[0mp_t_gray_r\u001b[0m\u001b[0;34m,\u001b[0m \u001b[0;36m0\u001b[0m\u001b[0;34m)\u001b[0m\u001b[0;34m\u001b[0m\u001b[0m\n\u001b[1;32m      5\u001b[0m \u001b[0mheight\u001b[0m\u001b[0;34m,\u001b[0m \u001b[0mwidth\u001b[0m \u001b[0;34m=\u001b[0m \u001b[0mp_t_gray_l\u001b[0m\u001b[0;34m.\u001b[0m\u001b[0mshape\u001b[0m\u001b[0;34m\u001b[0m\u001b[0m\n",
      "\u001b[0;31mNameError\u001b[0m: name 'p_t_gray_l' is not defined"
     ]
    }
   ],
   "source": [
    "photo_test_left =  os.path.join('photo', '')\n",
    "photo_test_right = os.path.join('photo', '')\n",
    "p_t_gray_l = cv2.imread(p_t_gray_l, 0)\n",
    "p_t_gray_r = cv2.imread(p_t_gray_r, 0)\n",
    "height, width = p_t_gray_l.shape\n",
    "patch_tolerate_height = dict() # key = height value = dict() value.key = (x,y) value..value = (patch)\n",
    "patch_equal_height = dict() # ｋｅy = height value = list()　储存在该高度上取得ｐａｔｃｈ\n",
    "# 先在右侧人物图上进行选点，　根据点构造ｐａｔｃｈ，　然后设置在同等高度的阈值范围，然后将该阈值范围内的图像依次取ｐａｔｃｈ\n",
    "\n",
    "for key in patch_equal_height.keys():\n",
    "    for patch in patch_equal_height[key]:\n",
    "        v_right = np.dot(m_best, patch)\n",
    "        for item in patch_tolerate_height[key]:\n",
    "            center_points = item[0]\n",
    "            patch_relate = item[1]\n",
    "            v_left = np.dot(m_best, patch_relate)\n",
    "            middle_v = np.linalg.norm((v_right - v_left), 2)\n",
    "            if middle_v < min_subtract:\n",
    "                min_subtract = middle_v\n",
    "                position_y  = center_points[1]\n",
    "        \n"
   ]
  },
  {
   "cell_type": "code",
   "execution_count": null,
   "metadata": {},
   "outputs": [],
   "source": []
  }
 ],
 "metadata": {
  "kernelspec": {
   "display_name": "Python 2",
   "language": "python",
   "name": "python2"
  },
  "language_info": {
   "codemirror_mode": {
    "name": "ipython",
    "version": 2
   },
   "file_extension": ".py",
   "mimetype": "text/x-python",
   "name": "python",
   "nbconvert_exporter": "python",
   "pygments_lexer": "ipython2",
   "version": "2.7.12"
  }
 },
 "nbformat": 4,
 "nbformat_minor": 2
}
